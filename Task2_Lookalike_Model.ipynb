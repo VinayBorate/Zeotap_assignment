{
  "nbformat": 4,
  "nbformat_minor": 0,
  "metadata": {
    "colab": {
      "provenance": [],
      "authorship_tag": "ABX9TyOVPXaSOeOY5hSmrCBAy1bZ",
      "include_colab_link": true
    },
    "kernelspec": {
      "name": "python3",
      "display_name": "Python 3"
    },
    "language_info": {
      "name": "python"
    }
  },
  "cells": [
    {
      "cell_type": "markdown",
      "metadata": {
        "id": "view-in-github",
        "colab_type": "text"
      },
      "source": [
        "<a href=\"https://colab.research.google.com/github/VinayBorate/Zeotap_assignment/blob/main/Task2_Lookalike_Model.ipynb\" target=\"_parent\"><img src=\"https://colab.research.google.com/assets/colab-badge.svg\" alt=\"Open In Colab\"/></a>"
      ]
    },
    {
      "cell_type": "code",
      "execution_count": 1,
      "metadata": {
        "id": "z89qjlVjrJNz"
      },
      "outputs": [],
      "source": [
        "from sklearn.preprocessing import StandardScaler\n",
        "from sklearn.metrics.pairwise import cosine_similarity\n",
        "import numpy as np\n",
        "from sklearn.ensemble import RandomForestClassifier\n",
        "from sklearn.model_selection import train_test_split\n",
        "from sklearn.metrics import accuracy_score, classification_report\n",
        "import pandas as pd"
      ]
    },
    {
      "cell_type": "code",
      "source": [
        "# Read the CSV files\n",
        "customers = pd.read_csv(\"/content/Customers.csv\")\n",
        "products = pd.read_csv(\"/content/Products.csv\")\n",
        "transactions = pd.read_csv(\"/content/Transactions.csv\")"
      ],
      "metadata": {
        "id": "bMSy0B9Ark5s"
      },
      "execution_count": 2,
      "outputs": []
    },
    {
      "cell_type": "code",
      "source": [
        "merged = transactions.merge(customers, on='CustomerID').merge(products, on='ProductID')"
      ],
      "metadata": {
        "id": "WMIRDK4ltMnj"
      },
      "execution_count": 3,
      "outputs": []
    },
    {
      "cell_type": "code",
      "source": [
        "print(merged.columns)"
      ],
      "metadata": {
        "colab": {
          "base_uri": "https://localhost:8080/"
        },
        "id": "6UxwPAwKtUfr",
        "outputId": "9c400e6b-35c0-47c7-e043-0752b15032ef"
      },
      "execution_count": 4,
      "outputs": [
        {
          "output_type": "stream",
          "name": "stdout",
          "text": [
            "Index(['TransactionID', 'CustomerID', 'ProductID', 'TransactionDate',\n",
            "       'Quantity', 'TotalValue', 'Price_x', 'CustomerName', 'Region',\n",
            "       'SignupDate', 'ProductName', 'Category', 'Price_y'],\n",
            "      dtype='object')\n"
          ]
        }
      ]
    },
    {
      "cell_type": "code",
      "source": [
        "if 'Price_x' in transactions.columns and 'Price_y' in transactions.columns:\n",
        "    print(\"Price_x and Price_y Columns:\\n\")\n",
        "    print(transactions[['Price_x', 'Price_y']].head())\n",
        "else:\n",
        "    print(\"Not\")"
      ],
      "metadata": {
        "colab": {
          "base_uri": "https://localhost:8080/"
        },
        "id": "Pvtd05BftW2r",
        "outputId": "9231cdd8-0b5a-4fc3-a519-ef13210d704b"
      },
      "execution_count": 5,
      "outputs": [
        {
          "output_type": "stream",
          "name": "stdout",
          "text": [
            "Not\n"
          ]
        }
      ]
    },
    {
      "cell_type": "code",
      "source": [
        "# Feature Engineering\n",
        "customer_profiles = merged.groupby('CustomerID').agg({\n",
        "    'TotalValue': 'mean',\n",
        "    'Quantity': 'sum',\n",
        "    'Price_y': 'mean',\n",
        "    'Category': lambda x: x.mode()[0]  # Most frequent category\n",
        "}).reset_index()"
      ],
      "metadata": {
        "id": "bKeM3ySltZYJ"
      },
      "execution_count": 6,
      "outputs": []
    },
    {
      "cell_type": "code",
      "source": [
        "customer_profiles_encoded = pd.get_dummies(customer_profiles, columns=['Category'], drop_first=True)"
      ],
      "metadata": {
        "id": "r4dLb_p9tb9E"
      },
      "execution_count": 7,
      "outputs": []
    },
    {
      "cell_type": "code",
      "source": [
        "# Normalize data\n",
        "scaler = StandardScaler()\n",
        "profile_features = scaler.fit_transform(customer_profiles_encoded.drop('CustomerID', axis=1))"
      ],
      "metadata": {
        "id": "-8k7gLavtflC"
      },
      "execution_count": 8,
      "outputs": []
    },
    {
      "cell_type": "code",
      "source": [
        "# Compute similarity\n",
        "similarity_matrix = cosine_similarity(profile_features)"
      ],
      "metadata": {
        "id": "fDE3fFsQthg6"
      },
      "execution_count": 9,
      "outputs": []
    },
    {
      "cell_type": "code",
      "source": [
        "# Generate Lookalike Recommendations\n",
        "lookalike_results = {}\n",
        "for idx, customer in enumerate(customer_profiles['CustomerID'][:20]):\n",
        "    similar_indices = np.argsort(-similarity_matrix[idx])[1:4]  # Top 3 excluding itself\n",
        "    lookalike_results[customer] = [\n",
        "        (customer_profiles['CustomerID'][i], similarity_matrix[idx][i]) for i in similar_indices\n",
        "    ]"
      ],
      "metadata": {
        "id": "6-k6P9y6tjvM"
      },
      "execution_count": 10,
      "outputs": []
    },
    {
      "cell_type": "code",
      "source": [
        "# Save Lookalike.csv\n",
        "lookalike_df = pd.DataFrame({\n",
        "    'CustomerID': lookalike_results.keys(),\n",
        "    'Lookalikes': lookalike_results.values()\n",
        "})\n",
        "lookalike_df.to_csv('FirstName_LastName_Lookalike.csv', index=False)"
      ],
      "metadata": {
        "id": "1bnK5v5utm31"
      },
      "execution_count": 11,
      "outputs": []
    }
  ]
}